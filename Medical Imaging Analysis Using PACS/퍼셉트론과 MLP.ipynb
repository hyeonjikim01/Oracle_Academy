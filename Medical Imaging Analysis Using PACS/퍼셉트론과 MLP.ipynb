{
 "cells": [
  {
   "cell_type": "code",
   "execution_count": null,
   "id": "9bf19a91-8c4d-4980-a5b1-b77fea800ff8",
   "metadata": {},
   "outputs": [
    {
     "name": "stdout",
     "output_type": "stream",
     "text": [
      "x1 = 0, x2 = 0 -> y = -1\n",
      "x1 = 0, x2 = 1 -> y = -1\n",
      "x1 = 1, x2 = 0 -> y = -1\n",
      "x1 = 1, x2 = 1 -> y = 1\n"
     ]
    }
   ],
   "source": [
    "## 실습 1-1\n",
    "\n",
    "# AND gate 구현 함수 정의\n",
    "def AND_gate(x1, x2):\n",
    "    w1 = 1.0 # 입력 x1의 가중치\n",
    "    w2 = 1.0 # 입력 x2의 가중치\n",
    "    b = -1.5 # 편향값(bias)\n",
    "    result = x1 * w1 + x2 * w2 + b # 가중합 계산\n",
    "\n",
    "    # 활성화 함수로 계단 함수(step function) 적용 -> 0과 1로 이진화\n",
    "    return 1 if result > 0 else -1\n",
    "\n",
    "# AND gate의 모든 입력 조합에 대한 결과 출력\n",
    "inputs = [(0,0), (0,1), (1,0), (1,1)]\n",
    "for x1, x2 in inputs:\n",
    "    y = AND_gate(x1, x2)\n",
    "    print(\"x1 = %d, x2 = %d -> y = %d\" %(x1, x2, y))"
   ]
  },
  {
   "cell_type": "code",
   "execution_count": null,
   "id": "f7623a98-205f-4fbc-8d2a-d7abf23d27f0",
   "metadata": {},
   "outputs": [
    {
     "name": "stdout",
     "output_type": "stream",
     "text": [
      "x1 = 0, x2 = 0 -> y = -1\n",
      "x1 = 0, x2 = 1 -> y = 1\n",
      "x1 = 1, x2 = 0 -> y = 1\n",
      "x1 = 1, x2 = 1 -> y = 1\n"
     ]
    }
   ],
   "source": [
    "## 실습 1-2\n",
    "\n",
    "# OR gate 구현 함수 정의\n",
    "def OR_gate(x1, x2):\n",
    "    w1 = 1.0 # 입력 x1의 가중치\n",
    "    w2 = 1.0 # 입력 x2의 가중치\n",
    "    b = -0.5 # 편향값(bias)\n",
    "    result = x1 * w1 + x2 * w2 + b # 가중합 계산\n",
    "\n",
    "    # 활성화 함수로 계단(step function) 적용\n",
    "    return 1 if result >0 else -1\n",
    "\n",
    "# OR gate의 모든 입력 조합에대한 결과 출력\n",
    "inputs = [(0,0), (0,1), (1,0), (1,1)]\n",
    "for x1, x2 in inputs:\n",
    "    y = OR_gate(x1, x2)\n",
    "    print(\"x1 = %d, x2 = %d -> y = %d\" % (x1, x2, y))"
   ]
  },
  {
   "cell_type": "code",
   "execution_count": null,
   "id": "fa1d66a6-7c2f-4d26-91b6-2be86ddb7038",
   "metadata": {},
   "outputs": [
    {
     "name": "stdout",
     "output_type": "stream",
     "text": [
      "x1 = 0, x2 = 0 -> y = 1\n",
      "x1 = 0, x2 = 1 -> y = 1\n",
      "x1 = 1, x2 = 0 -> y = 1\n",
      "x1 = 1, x2 = 1 -> y = -1\n"
     ]
    }
   ],
   "source": [
    "## 실습 1-3\n",
    "\n",
    "# NAND gate 구현 함수정의\n",
    "def NAND_gate(x1, x2):\n",
    "    w1 = -1.0   # 입력 x1의 가중치\n",
    "    w2 = -1.0   # 입력 x2의 가중치\n",
    "    b = 1.5     # 편향(bias)\n",
    "\n",
    "    result = x1 * w1 + x2 * w2 + b  # 가중합 계산\n",
    "\n",
    "    # 계단 함수 (step function) 적용\n",
    "    return 1 if result > 0 else -1 \n",
    "\n",
    "# NAND gate의 모든 입력 조합에 대한 결과 출력\n",
    "inputs = [(0, 0), (0, 1), (1, 0), (1, 1)]\n",
    "for x1, x2 in inputs:\n",
    "    y = NAND_gate(x1, x2)\n",
    "    print(\"x1 = %d, x2 = %d -> y = %d\" % (x1, x2, y))\n"
   ]
  },
  {
   "cell_type": "code",
   "execution_count": null,
   "id": "7b625053-9cfc-4a0e-8f5d-38d48353e1e4",
   "metadata": {},
   "outputs": [
    {
     "name": "stdout",
     "output_type": "stream",
     "text": [
      "x1 = 0, x2 = 0 -> y = -1\n",
      "x1 = 0, x2 = 1 -> y = 1\n",
      "x1 = 1, x2 = 0 -> y = 1\n",
      "x1 = 1, x2 = 1 -> y = 1\n"
     ]
    }
   ],
   "source": [
    "## 실습 1-1\n",
    "\n",
    "# AND gate 구현 함수 정의\n",
    "def AND_gate(x1, x2):\n",
    "    w1 = 2.0 # 입력 x1의 가중치 변경\n",
    "    w2 = 2.0 # 입력 x2의 가중치 변경\n",
    "    b = -1.5 # 편향값(bias)\n",
    "    result = x1 * w1 + x2 * w2 + b # 가중합 계산\n",
    "\n",
    "    # 활성화 함수로 계단 함수(step function) 적용\n",
    "    return 1 if result > 0 else -1\n",
    "\n",
    "# AND gate의 모든 입력 조합에 대한 결과 출력\n",
    "inputs = [(0,0), (0,1), (1,0), (1,1)]\n",
    "for x1, x2 in inputs:\n",
    "    y = AND_gate(x1, x2)\n",
    "    print(\"x1 = %d, x2 = %d -> y = %d\" %(x1, x2, y))"
   ]
  },
  {
   "cell_type": "code",
   "execution_count": null,
   "id": "7a759f41-ee58-411e-87ff-6f8018ce585b",
   "metadata": {},
   "outputs": [
    {
     "data": {
      "image/png": "[encoded data removed]",
      "text/plain": [
       "<Figure size 640x480 with 1 Axes>"
      ]
     },
     "metadata": {},
     "output_type": "display_data"
    }
   ],
   "source": [
    "## 실습2 단일 퍼셉트론의 가중치 학습하기\n",
    "\n",
    "# 필요한 라이브러리 임포트\n",
    "import numpy as np\n",
    "\n",
    "# 데이터 설정(입력 데이터와 레이블)\n",
    "X = np.array([[0, 0], [1, 0], [0, 1], [1, 1]]) # 입력 데이터\n",
    "y = np.array([-1, 1, 1, 1]) # 레이블(AND gate의 출력)\n",
    "\n",
    "# 퍼셉트론 모델 정의\n",
    "class Perceptron:\n",
    "    def __init__(self, input_size, lr=0.1):\n",
    "        self.W = np.ones(input_size + 1) # 가중치를 모두 1로 초기화\n",
    "        # input_size + 1: 편향(bias) 추가\n",
    "        self.lr = lr # 학습률 -> 가중치를 얼마나 크게 조정할지 결정\n",
    "    \n",
    "    def activation_fn(self, x):\n",
    "       return np.where(x >= 0, 1, -1) # 계단 함수\n",
    "    \n",
    "    def fit(self, X, y):\n",
    "       for _ in range(10): # 반복 학습 횟수\n",
    "            # _: 반복 변수를 쓰지 않겠다는 의미\n",
    "            for xi, target in zip(X, y): # (입력데이터, 정답데이터) 묶어서 반복\n",
    "                xi = np.insert(xi, 0, 1) # 편향을 위한 항상 1인 입력값을 앞에 추가\n",
    "                y_pred = self.activation_fn(self.W.dot(xi)) # 예측값\n",
    "                # self.W.dot(xi): 가중합 계산\n",
    "                self.W += self.lr * (target - y_pred) * xi # 가중치 업데이트 = 학습률 * 오차 * 입력값\n",
    "                # 기존 가중치에 더함\n",
    "\n",
    "# 퍼셉트론 인스턴스 생성 및 학습\n",
    "perceptron = Perceptron(input_size=2)\n",
    "perceptron.fit(X, y)\n",
    "\n",
    "# 학습된 가중치 출력\n",
    "perceptron.W\n",
    "    \n",
    "  \n",
    "# 시각화 라이브러리 임포트\n",
    "import matplotlib.pyplot as plt\n",
    "\n",
    "# 결정 경계를 그리는 함수\n",
    "def plot_decision_boundary(X, y, model):\n",
    "   plt.scatter(X[:, 0], X[:, 1], c=y, cmap=plt.cm.Spectral, s=40) # 산점도\n",
    "   # 산점도: X의 첫 번째 열(x1), 두 번째 열(x2), 색상(y), 색상 맵, 점 크기\n",
    "   ax = plt.gca() # 현재 축을 가져오기\n",
    "   xlim, ylim = ax.get_xlim(), ax.get_ylim() # 현재 그래프의 x, y 축 범위 확인\n",
    "   xx, yy = np.meshgrid(np.linspace(xlim[0], xlim[1], 50), # np.meshgrid 두 축을 격자 모양으로 만들기, 50 등분\n",
    "                         np.linspace(ylim[0], ylim[1], 50))\n",
    "   Z = np.apply_along_axis(\n",
    "     lambda x: model.activation_fn(model.W.dot(np.insert(x, 0, 1))),\n",
    "     1, np.c_[xx.ravel(), yy.ravel()]) # np.c_: 두 배열을 열 방향으로 연결, 2차원 배열\n",
    "\n",
    "   Z = Z.reshape(xx.shape) # 결과를 2차원으로 변형\n",
    "   plt.contourf(xx, yy, Z, cmap=plt.cm.Spectral, alpha=0.3)\n",
    "   plt.xlabel('x1')\n",
    "   plt.ylabel('x2')\n",
    "\n",
    "# 퍼셉트론의 결정 경계 시각화\n",
    "plot_decision_boundary(X, y, perceptron)\n",
    "plt.show()"
   ]
  },
  {
   "cell_type": "code",
   "execution_count": null,
   "id": "b7ec18d8",
   "metadata": {},
   "outputs": [],
   "source": []
  }
 ],
 "metadata": {
  "kernelspec": {
   "display_name": "kdtcb_learn",
   "language": "python",
   "name": "python3"
  },
  "language_info": {
   "codemirror_mode": {
    "name": "ipython",
    "version": 3
   },
   "file_extension": ".py",
   "mimetype": "text/x-python",
   "name": "python",
   "nbconvert_exporter": "python",
   "pygments_lexer": "ipython3",
   "version": "3.9.21"
  }
 },
 "nbformat": 4,
 "nbformat_minor": 5
}
